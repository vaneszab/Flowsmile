{
 "cells": [
  {
   "cell_type": "code",
   "execution_count": 1,
   "metadata": {
    "id": "1J8oPql3-xqD",
    "outputId": "6d90bbdd-c546-48f0-c60d-44d425aa512a"
   },
   "outputs": [
    {
     "name": "stdout",
     "output_type": "stream",
     "text": [
      "Requirement already satisfied: flask-ngrok in d:\\kuliah\\semester 4\\prak. data mining\\lib\\site-packages (0.0.25)\n",
      "Requirement already satisfied: Flask>=0.8 in d:\\kuliah\\semester 4\\prak. data mining\\lib\\site-packages (from flask-ngrok) (1.1.2)\n",
      "Requirement already satisfied: requests in d:\\kuliah\\semester 4\\prak. data mining\\lib\\site-packages (from flask-ngrok) (2.26.0)\n",
      "Requirement already satisfied: Jinja2>=2.10.1 in d:\\kuliah\\semester 4\\prak. data mining\\lib\\site-packages (from Flask>=0.8->flask-ngrok) (2.11.3)\n",
      "Requirement already satisfied: itsdangerous>=0.24 in d:\\kuliah\\semester 4\\prak. data mining\\lib\\site-packages (from Flask>=0.8->flask-ngrok) (2.0.1)\n",
      "Requirement already satisfied: click>=5.1 in d:\\kuliah\\semester 4\\prak. data mining\\lib\\site-packages (from Flask>=0.8->flask-ngrok) (8.0.3)\n",
      "Requirement already satisfied: Werkzeug>=0.15 in d:\\kuliah\\semester 4\\prak. data mining\\lib\\site-packages (from Flask>=0.8->flask-ngrok) (2.0.2)\n",
      "Requirement already satisfied: colorama in d:\\kuliah\\semester 4\\prak. data mining\\lib\\site-packages (from click>=5.1->Flask>=0.8->flask-ngrok) (0.4.4)\n",
      "Requirement already satisfied: MarkupSafe>=0.23 in d:\\kuliah\\semester 4\\prak. data mining\\lib\\site-packages (from Jinja2>=2.10.1->Flask>=0.8->flask-ngrok) (1.1.1)\n",
      "Requirement already satisfied: charset-normalizer~=2.0.0 in d:\\kuliah\\semester 4\\prak. data mining\\lib\\site-packages (from requests->flask-ngrok) (2.0.4)\n",
      "Requirement already satisfied: certifi>=2017.4.17 in d:\\kuliah\\semester 4\\prak. data mining\\lib\\site-packages (from requests->flask-ngrok) (2021.10.8)\n",
      "Requirement already satisfied: idna<4,>=2.5 in d:\\kuliah\\semester 4\\prak. data mining\\lib\\site-packages (from requests->flask-ngrok) (3.2)\n",
      "Requirement already satisfied: urllib3<1.27,>=1.21.1 in d:\\kuliah\\semester 4\\prak. data mining\\lib\\site-packages (from requests->flask-ngrok) (1.26.7)\n",
      "Requirement already satisfied: gevent in d:\\kuliah\\semester 4\\prak. data mining\\lib\\site-packages (21.8.0)\n",
      "Requirement already satisfied: setuptools in d:\\kuliah\\semester 4\\prak. data mining\\lib\\site-packages (from gevent) (58.0.4)\n",
      "Requirement already satisfied: greenlet<2.0,>=1.1.0 in d:\\kuliah\\semester 4\\prak. data mining\\lib\\site-packages (from gevent) (1.1.1)\n",
      "Requirement already satisfied: zope.interface in d:\\kuliah\\semester 4\\prak. data mining\\lib\\site-packages (from gevent) (5.4.0)\n",
      "Requirement already satisfied: zope.event in d:\\kuliah\\semester 4\\prak. data mining\\lib\\site-packages (from gevent) (4.5.0)\n",
      "Requirement already satisfied: cffi>=1.12.2 in d:\\kuliah\\semester 4\\prak. data mining\\lib\\site-packages (from gevent) (1.14.6)\n",
      "Requirement already satisfied: pycparser in d:\\kuliah\\semester 4\\prak. data mining\\lib\\site-packages (from cffi>=1.12.2->gevent) (2.20)\n",
      "Requirement already satisfied: flask in d:\\kuliah\\semester 4\\prak. data mining\\lib\\site-packages (1.1.2)\n",
      "Requirement already satisfied: itsdangerous>=0.24 in d:\\kuliah\\semester 4\\prak. data mining\\lib\\site-packages (from flask) (2.0.1)\n",
      "Requirement already satisfied: click>=5.1 in d:\\kuliah\\semester 4\\prak. data mining\\lib\\site-packages (from flask) (8.0.3)\n",
      "Requirement already satisfied: Jinja2>=2.10.1 in d:\\kuliah\\semester 4\\prak. data mining\\lib\\site-packages (from flask) (2.11.3)\n",
      "Requirement already satisfied: Werkzeug>=0.15 in d:\\kuliah\\semester 4\\prak. data mining\\lib\\site-packages (from flask) (2.0.2)\n",
      "Requirement already satisfied: colorama in d:\\kuliah\\semester 4\\prak. data mining\\lib\\site-packages (from click>=5.1->flask) (0.4.4)\n",
      "Requirement already satisfied: MarkupSafe>=0.23 in d:\\kuliah\\semester 4\\prak. data mining\\lib\\site-packages (from Jinja2>=2.10.1->flask) (1.1.1)\n"
     ]
    }
   ],
   "source": [
    "!pip install flask-ngrok\n",
    "!pip install gevent\n",
    "!pip install flask"
   ]
  },
  {
   "cell_type": "code",
   "execution_count": 2,
   "metadata": {
    "id": "RD1-_WS8-xqJ"
   },
   "outputs": [],
   "source": [
    "from __future__ import division, print_function\n",
    "# coding=utf-8\n",
    "import sys\n",
    "import os\n",
    "import glob\n",
    "import re\n",
    "import numpy as np\n",
    "\n",
    "# Keras\n",
    "from keras.applications.imagenet_utils import preprocess_input, decode_predictions\n",
    "from keras.models import load_model\n",
    "from keras.preprocessing import image\n",
    "\n",
    "# Flask utils\n",
    "from flask import Flask, redirect, url_for, request, render_template\n",
    "from werkzeug.utils import secure_filename\n",
    "from gevent.pywsgi import WSGIServer"
   ]
  },
  {
   "cell_type": "code",
   "execution_count": 3,
   "metadata": {
    "id": "S3QwNc4O-xqK"
   },
   "outputs": [],
   "source": [
    "import flask\n",
    "from flask import request\n",
    "import pandas as pd\n",
    "import tensorflow as tf\n",
    "import keras\n",
    "import numpy as np\n",
    "import random\n",
    "import os\n",
    "from os.path import join, dirname, realpath\n",
    "from   tensorflow.keras.preprocessing.image import img_to_array, load_img\n",
    "from flask_ngrok import run_with_ngrok\n",
    "from werkzeug.utils import secure_filename"
   ]
  },
  {
   "cell_type": "code",
   "execution_count": 4,
   "metadata": {
    "id": "ZGqtpmy6-xqL"
   },
   "outputs": [],
   "source": [
    "app = Flask(__name__)\n",
    "\n",
    "model = tf.keras.models.load_model('flower.h5')\n",
    "run_with_ngrok(app) "
   ]
  },
  {
   "cell_type": "code",
   "execution_count": null,
   "metadata": {
    "id": "rUG6aA5x-xqM",
    "outputId": "57e10d3b-82ae-4753-bf97-3dd7f15ade18"
   },
   "outputs": [
    {
     "name": "stdout",
     "output_type": "stream",
     "text": [
      " * Serving Flask app \"__main__\" (lazy loading)\n",
      " * Environment: production\n",
      "\u001b[31m   WARNING: This is a development server. Do not use it in a production deployment.\u001b[0m\n",
      "\u001b[2m   Use a production WSGI server instead.\u001b[0m\n",
      " * Debug mode: off\n"
     ]
    },
    {
     "name": "stderr",
     "output_type": "stream",
     "text": [
      " * Running on http://127.0.0.1:5000/ (Press CTRL+C to quit)\n"
     ]
    },
    {
     "name": "stdout",
     "output_type": "stream",
     "text": [
      " * Running on http://cc06-182-1-56-214.ngrok.io\n",
      " * Traffic stats available on http://127.0.0.1:4040\n",
      "1/1 [==============================] - 0s 259ms/step\n"
     ]
    },
    {
     "name": "stderr",
     "output_type": "stream",
     "text": [
      "127.0.0.1 - - [01/Aug/2022 08:24:38] \"POST /predict HTTP/1.1\" 200 -\n"
     ]
    },
    {
     "name": "stdout",
     "output_type": "stream",
     "text": [
      "{'success': True, 'file': 'File Terbaca', 'label': 1}\n",
      "1/1 [==============================] - 0s 37ms/step\n"
     ]
    },
    {
     "name": "stderr",
     "output_type": "stream",
     "text": [
      "127.0.0.1 - - [01/Aug/2022 08:25:31] \"POST /predict HTTP/1.1\" 200 -\n"
     ]
    },
    {
     "name": "stdout",
     "output_type": "stream",
     "text": [
      "{'success': True, 'file': 'File Terbaca', 'label': 2}\n",
      "1/1 [==============================] - 0s 48ms/step\n"
     ]
    },
    {
     "name": "stderr",
     "output_type": "stream",
     "text": [
      "127.0.0.1 - - [01/Aug/2022 08:25:43] \"POST /predict HTTP/1.1\" 200 -\n"
     ]
    },
    {
     "name": "stdout",
     "output_type": "stream",
     "text": [
      "{'success': True, 'file': 'File Terbaca', 'label': 1}\n",
      "1/1 [==============================] - 0s 57ms/step\n"
     ]
    },
    {
     "name": "stderr",
     "output_type": "stream",
     "text": [
      "127.0.0.1 - - [01/Aug/2022 08:27:02] \"POST /predict HTTP/1.1\" 200 -\n"
     ]
    },
    {
     "name": "stdout",
     "output_type": "stream",
     "text": [
      "{'success': True, 'file': 'File Terbaca', 'label': 1}\n",
      "1/1 [==============================] - 0s 60ms/step\n"
     ]
    },
    {
     "name": "stderr",
     "output_type": "stream",
     "text": [
      "127.0.0.1 - - [01/Aug/2022 08:27:15] \"POST /predict HTTP/1.1\" 200 -\n"
     ]
    },
    {
     "name": "stdout",
     "output_type": "stream",
     "text": [
      "{'success': True, 'file': 'File Terbaca', 'label': 1}\n",
      "1/1 [==============================] - 0s 41ms/step\n"
     ]
    },
    {
     "name": "stderr",
     "output_type": "stream",
     "text": [
      "127.0.0.1 - - [01/Aug/2022 08:27:18] \"POST /predict HTTP/1.1\" 200 -\n"
     ]
    },
    {
     "name": "stdout",
     "output_type": "stream",
     "text": [
      "{'success': True, 'file': 'File Terbaca', 'label': 1}\n",
      "1/1 [==============================] - 0s 64ms/step\n"
     ]
    },
    {
     "name": "stderr",
     "output_type": "stream",
     "text": [
      "127.0.0.1 - - [01/Aug/2022 08:27:33] \"POST /predict HTTP/1.1\" 200 -\n"
     ]
    },
    {
     "name": "stdout",
     "output_type": "stream",
     "text": [
      "{'success': True, 'file': 'File Terbaca', 'label': 0}\n"
     ]
    }
   ],
   "source": [
    "@app.route('/', methods=['GET'])\n",
    "def index():\n",
    "   return \"<h1>Hello World</h1>\"\n",
    "@app.route('/predict', methods=['GET', 'POST'])\n",
    "def upload():\n",
    "    data={\"success\":False}\n",
    "    namafile=''\n",
    "    if request.method == 'POST':\n",
    "        file = request.files['file']\n",
    "        \n",
    "        if file.filename == '':\n",
    "              data[\"file\"]=\"Tidak ada file\"\n",
    "        else:\n",
    "              data[\"file\"]=\"File Terbaca\"\n",
    "              filename = secure_filename(file.filename)\n",
    "              file.save('data_tes/'+file.filename)\n",
    "              namafile='data_tes/'+file.filename\n",
    "        img = load_img(namafile, target_size=(150, 150))\n",
    "\n",
    "        x   = img_to_array(img)                         \n",
    "        x   = x.reshape((1,) + x.shape) \n",
    "        x /= 255.0\n",
    "        predict= model.predict(x, batch_size=1)\n",
    "        temp=0\n",
    "        label=0\n",
    "        hasil=[]\n",
    "        for y in range(3):\n",
    "          presentase=predict[0][y]*100\n",
    "          hasil.append(predict[0][y]*100)\n",
    "          if presentase>temp:\n",
    "              temp=presentase\n",
    "              label=y\n",
    "          data[\"success\"]=True\n",
    "          data[\"label\"]=label\n",
    "        print(data)\n",
    "        return flask.jsonify(data)\n",
    "    else:\n",
    "        return \"<h1>Method salah</h1>\"\n",
    "app.run()"
   ]
  },
  {
   "cell_type": "code",
   "execution_count": null,
   "metadata": {
    "id": "UI394Xi1-xqN"
   },
   "outputs": [],
   "source": []
  },
  {
   "cell_type": "code",
   "execution_count": null,
   "metadata": {
    "id": "O0vWsIyC-xqO"
   },
   "outputs": [],
   "source": []
  }
 ],
 "metadata": {
  "colab": {
   "name": "AmazingBackEnd__Kelompok8_2SIC.ipynb",
   "provenance": []
  },
  "kernelspec": {
   "display_name": "Python 3 (ipykernel)",
   "language": "python",
   "name": "python3"
  },
  "language_info": {
   "codemirror_mode": {
    "name": "ipython",
    "version": 3
   },
   "file_extension": ".py",
   "mimetype": "text/x-python",
   "name": "python",
   "nbconvert_exporter": "python",
   "pygments_lexer": "ipython3",
   "version": "3.9.7"
  }
 },
 "nbformat": 4,
 "nbformat_minor": 1
}
